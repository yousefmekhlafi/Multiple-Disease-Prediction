{
  "nbformat": 4,
  "nbformat_minor": 0,
  "metadata": {
    "colab": {
      "provenance": []
    },
    "kernelspec": {
      "name": "python3",
      "display_name": "Python 3"
    },
    "language_info": {
      "name": "python"
    }
  },
  "cells": [
    {
      "cell_type": "code",
      "execution_count": 2,
      "metadata": {
        "id": "k6GJIFEehJFJ"
      },
      "outputs": [],
      "source": [
        "import pandas as pd\n",
        "from sklearn.model_selection import train_test_split"
      ]
    },
    {
      "cell_type": "code",
      "source": [
        "# Load your dataset\n",
        "df = pd.read_csv('/content/diabetes.csv')"
      ],
      "metadata": {
        "id": "gK9K1Nb8hdUi"
      },
      "execution_count": 4,
      "outputs": []
    },
    {
      "cell_type": "code",
      "source": [
        "# Split the dataset into training, validation, and testing sets\n",
        "train_df, temp_df = train_test_split(df, test_size=0.3, random_state=42)  # 70% training, 30% temp\n",
        "valid_df, test_df = train_test_split(temp_df, test_size=0.5, random_state=42)  # 15% validation, 15% testing"
      ],
      "metadata": {
        "id": "6VfFtO-7hfyk"
      },
      "execution_count": 13,
      "outputs": []
    },
    {
      "cell_type": "code",
      "source": [
        "# Save the splits to separate CSV files\n",
        "train_df.to_csv('train_data.csv', index=False)\n",
        "valid_df.to_csv('valid_data.csv', index=False)\n",
        "test_df.to_csv('test_data.csv', index=False)\n",
        "\n",
        "print(\"Data has been split and saved to CSV files.\")"
      ],
      "metadata": {
        "colab": {
          "base_uri": "https://localhost:8080/"
        },
        "id": "CaGlAUTthqfw",
        "outputId": "83f12161-1a32-4c35-87a5-958a7edad714"
      },
      "execution_count": 14,
      "outputs": [
        {
          "output_type": "stream",
          "name": "stdout",
          "text": [
            "Data has been split and saved to CSV files.\n"
          ]
        }
      ]
    },
    {
      "cell_type": "code",
      "source": [
        "diab_train_data = pd.read_csv('/content/diab_train_data.csv')\n",
        "diab_valid_data = pd.read_csv('/content/diab_valid_data.csv')\n",
        "diab_test_data = pd.read_csv('/content/diab_test_data.csv')\n"
      ],
      "metadata": {
        "id": "ur5Xvo_HhuGk"
      },
      "execution_count": 23,
      "outputs": []
    },
    {
      "cell_type": "code",
      "source": [
        "len(diab_train_data)"
      ],
      "metadata": {
        "colab": {
          "base_uri": "https://localhost:8080/"
        },
        "id": "68uE0-r2h08y",
        "outputId": "79efc9fe-9b4a-4b3a-abaf-82f6905e551e"
      },
      "execution_count": 24,
      "outputs": [
        {
          "output_type": "execute_result",
          "data": {
            "text/plain": [
              "537"
            ]
          },
          "metadata": {},
          "execution_count": 24
        }
      ]
    },
    {
      "cell_type": "code",
      "source": [
        "len(diab_valid_data)"
      ],
      "metadata": {
        "colab": {
          "base_uri": "https://localhost:8080/"
        },
        "id": "DdC8WmlfiB4Y",
        "outputId": "81cc3200-7906-41a2-c7ea-342db0880c58"
      },
      "execution_count": 25,
      "outputs": [
        {
          "output_type": "execute_result",
          "data": {
            "text/plain": [
              "115"
            ]
          },
          "metadata": {},
          "execution_count": 25
        }
      ]
    },
    {
      "cell_type": "code",
      "source": [
        "len(diab_test_data)"
      ],
      "metadata": {
        "colab": {
          "base_uri": "https://localhost:8080/"
        },
        "id": "1-jZoXAziEGx",
        "outputId": "b0298754-b947-41c2-9604-d709b568205e"
      },
      "execution_count": 26,
      "outputs": [
        {
          "output_type": "execute_result",
          "data": {
            "text/plain": [
              "116"
            ]
          },
          "metadata": {},
          "execution_count": 26
        }
      ]
    }
  ]
}