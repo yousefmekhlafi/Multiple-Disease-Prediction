{
 "cells": [
  {
   "cell_type": "code",
   "execution_count": 19,
   "metadata": {},
   "outputs": [],
   "source": [
    "import os \n",
    "import pandas as pd\n",
    "import yaml\n",
    "from pathlib import Path"
   ]
  },
  {
   "cell_type": "code",
   "execution_count": 20,
   "metadata": {},
   "outputs": [
    {
     "data": {
      "text/plain": [
       "'e:\\\\AI DA Portfolio\\\\Multiple-Disease-Prediction'"
      ]
     },
     "execution_count": 20,
     "metadata": {},
     "output_type": "execute_result"
    }
   ],
   "source": [
    "%pwd"
   ]
  },
  {
   "cell_type": "code",
   "execution_count": 12,
   "metadata": {},
   "outputs": [],
   "source": [
    "os.chdir(\"../\")"
   ]
  },
  {
   "cell_type": "code",
   "execution_count": 13,
   "metadata": {},
   "outputs": [
    {
     "data": {
      "text/plain": [
       "'e:\\\\AI DA Portfolio\\\\Multiple-Disease-Prediction'"
      ]
     },
     "execution_count": 13,
     "metadata": {},
     "output_type": "execute_result"
    }
   ],
   "source": [
    "%pwd"
   ]
  },
  {
   "cell_type": "code",
   "execution_count": 22,
   "metadata": {},
   "outputs": [],
   "source": [
    "# Loading the yaml file\n",
    "\n",
    "with open(\"config/config.yaml\", \"r\") as f:\n",
    "    config = yaml.safe_load(f)"
   ]
  },
  {
   "cell_type": "code",
   "execution_count": 29,
   "metadata": {},
   "outputs": [],
   "source": [
    "# Extracting paths of validation datasets\n",
    "\n",
    "heart_train_data_path = Path(config[\"artifacts_root\"]) / Path(config[\"data_validation\"][\"heart_disease\"][\"train_data_file\"])\n",
    "heart_valid_data_path = Path(config[\"artifacts_root\"]) / Path(config[\"data_validation\"][\"heart_disease\"][\"valid_data_file\"])\n",
    "heart_test_data_path = Path(config[\"artifacts_root\"]) / Path(config[\"data_validation\"][\"heart_disease\"][\"test_data_file\"])\n",
    "\n",
    "parkinsons_train_data_path = Path(config[\"artifacts_root\"]) / Path(config[\"data_validation\"][\"parkinsons\"][\"train_data_file\"])\n",
    "parkinsons_valid_data_path = Path(config[\"artifacts_root\"]) / Path(config[\"data_validation\"][\"parkinsons\"][\"valid_data_file\"])\n",
    "parkinsons_test_data_path = Path(config[\"artifacts_root\"]) / Path(config[\"data_validation\"][\"parkinsons\"][\"test_data_file\"])\n",
    "\n",
    "diabetes_train_data_path = Path(config[\"artifacts_root\"]) / Path(config[\"data_validation\"][\"diabetes\"][\"train_data_file\"])\n",
    "diabetes_valid_data_path = Path(config[\"artifacts_root\"]) / Path(config[\"data_validation\"][\"diabetes\"][\"valid_data_file\"])\n",
    "diabetes_test_data_path = Path(config[\"artifacts_root\"]) / Path(config[\"data_validation\"][\"diabetes\"][\"test_data_file\"])"
   ]
  },
  {
   "cell_type": "code",
   "execution_count": 30,
   "metadata": {},
   "outputs": [],
   "source": [
    "if heart_train_data_path.exists():\n",
    "    heart_train_df = pd.read_csv(heart_train_data_path)\n",
    "else:\n",
    "    print(f\"File not found: {heart_train_data_path}\")\n",
    "\n",
    "if heart_valid_data_path.exists():\n",
    "    heart_valid_df = pd.read_csv(heart_valid_data_path)\n",
    "else:\n",
    "    print(f\"File not found: {heart_valid_data_path}\")\n",
    "\n",
    "if heart_test_data_path.exists():\n",
    "    heart_test_df = pd.read_csv(heart_test_data_path)\n",
    "else:\n",
    "    print(f\"File not found: {heart_test_data_path}\")\n",
    "\n",
    "# Parkinsons\n",
    "if parkinsons_train_data_path.exists():\n",
    "    parkinsons_train_df = pd.read_csv(parkinsons_train_data_path)\n",
    "else:\n",
    "    print(f\"File not found: {parkinsons_train_data_path}\")\n",
    "\n",
    "if parkinsons_valid_data_path.exists():\n",
    "    parkinsons_valid_df = pd.read_csv(parkinsons_valid_data_path)\n",
    "else:\n",
    "    print(f\"File not found: {parkinsons_valid_data_path}\")\n",
    "\n",
    "if parkinsons_test_data_path.exists():\n",
    "    parkinsons_test_df = pd.read_csv(parkinsons_test_data_path)\n",
    "else:\n",
    "    print(f\"File not found: {parkinsons_test_data_path}\")\n",
    "\n",
    "# Diabetes\n",
    "if diabetes_train_data_path.exists():\n",
    "    diabetes_train_df = pd.read_csv(diabetes_train_data_path)\n",
    "else:\n",
    "    print(f\"File not found: {diabetes_train_data_path}\")\n",
    "\n",
    "if diabetes_valid_data_path.exists():\n",
    "    diabetes_valid_df = pd.read_csv(diabetes_valid_data_path)\n",
    "else:\n",
    "    print(f\"File not found: {diabetes_valid_data_path}\")\n",
    "\n",
    "if diabetes_test_data_path.exists():\n",
    "    diabetes_test_df = pd.read_csv(diabetes_test_data_path)\n",
    "else:\n",
    "    print(f\"File not found: {diabetes_test_data_path}\")"
   ]
  },
  {
   "cell_type": "code",
   "execution_count": 31,
   "metadata": {},
   "outputs": [],
   "source": [
    "def validate_data(df):\n",
    "    print(\"Data Validation Checks:\")\n",
    "    print(\"Shape:\", df.shape)\n",
    "    print(\"Missing Values:\\n\", df.isnull().sum())\n",
    "    print(\"Data Types:\\n\", df.dtypes)\n",
    "    print(\"\\n\")"
   ]
  },
  {
   "cell_type": "code",
   "execution_count": 42,
   "metadata": {},
   "outputs": [
    {
     "name": "stdout",
     "output_type": "stream",
     "text": [
      "Data Validation Checks:\n",
      "Shape: (116, 9)\n",
      "Missing Values:\n",
      " Pregnancies                 0\n",
      "Glucose                     0\n",
      "BloodPressure               0\n",
      "SkinThickness               0\n",
      "Insulin                     0\n",
      "BMI                         0\n",
      "DiabetesPedigreeFunction    0\n",
      "Age                         0\n",
      "Outcome                     0\n",
      "dtype: int64\n",
      "Data Types:\n",
      " Pregnancies                   int64\n",
      "Glucose                       int64\n",
      "BloodPressure                 int64\n",
      "SkinThickness                 int64\n",
      "Insulin                       int64\n",
      "BMI                         float64\n",
      "DiabetesPedigreeFunction    float64\n",
      "Age                           int64\n",
      "Outcome                       int64\n",
      "dtype: object\n",
      "\n",
      "\n"
     ]
    }
   ],
   "source": [
    "validate_data(diabetes_test_df)"
   ]
  },
  {
   "cell_type": "code",
   "execution_count": null,
   "metadata": {},
   "outputs": [],
   "source": []
  }
 ],
 "metadata": {
  "kernelspec": {
   "display_name": "multipledisease",
   "language": "python",
   "name": "python3"
  },
  "language_info": {
   "codemirror_mode": {
    "name": "ipython",
    "version": 3
   },
   "file_extension": ".py",
   "mimetype": "text/x-python",
   "name": "python",
   "nbconvert_exporter": "python",
   "pygments_lexer": "ipython3",
   "version": "3.12.4"
  }
 },
 "nbformat": 4,
 "nbformat_minor": 2
}
