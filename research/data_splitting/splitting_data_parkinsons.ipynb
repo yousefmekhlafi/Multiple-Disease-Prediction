{
  "nbformat": 4,
  "nbformat_minor": 0,
  "metadata": {
    "colab": {
      "provenance": []
    },
    "kernelspec": {
      "name": "python3",
      "display_name": "Python 3"
    },
    "language_info": {
      "name": "python"
    }
  },
  "cells": [
    {
      "cell_type": "code",
      "execution_count": 47,
      "metadata": {
        "id": "k6GJIFEehJFJ"
      },
      "outputs": [],
      "source": [
        "import pandas as pd\n",
        "from sklearn.model_selection import train_test_split"
      ]
    },
    {
      "cell_type": "code",
      "source": [
        "# Load your dataset\n",
        "df = pd.read_csv('/content/parkinsons.csv')"
      ],
      "metadata": {
        "id": "gK9K1Nb8hdUi"
      },
      "execution_count": 48,
      "outputs": []
    },
    {
      "cell_type": "code",
      "source": [
        "# Split the dataset into training, validation, and testing sets\n",
        "train_df, temp_df = train_test_split(df, test_size=0.3, random_state=42)  # 70% training, 30% temp\n",
        "valid_df, test_df = train_test_split(temp_df, test_size=0.5, random_state=42)  # 15% validation, 15% testing"
      ],
      "metadata": {
        "id": "6VfFtO-7hfyk"
      },
      "execution_count": 49,
      "outputs": []
    },
    {
      "cell_type": "code",
      "source": [
        "# Save the splits to separate CSV files\n",
        "train_df.to_csv('parkinsons_train_data.csv', index=False)\n",
        "valid_df.to_csv('parkinsons_valid_data.csv', index=False)\n",
        "test_df.to_csv('parkinsons_test_data.csv', index=False)\n",
        "\n",
        "print(\"Data has been split and saved to CSV files.\")"
      ],
      "metadata": {
        "colab": {
          "base_uri": "https://localhost:8080/"
        },
        "id": "CaGlAUTthqfw",
        "outputId": "c09ebbf8-55eb-4923-cc21-f139b4325117"
      },
      "execution_count": 50,
      "outputs": [
        {
          "output_type": "stream",
          "name": "stdout",
          "text": [
            "Data has been split and saved to CSV files.\n"
          ]
        }
      ]
    },
    {
      "cell_type": "code",
      "source": [
        "parkinsons_train_data = pd.read_csv('/content/parkinsons_train_data.csv')\n",
        "parkinsons_valid_data = pd.read_csv('/content/parkinsons_valid_data.csv')\n",
        "parkinsons_test_data = pd.read_csv('/content/parkinsons_test_data.csv')\n"
      ],
      "metadata": {
        "id": "ur5Xvo_HhuGk"
      },
      "execution_count": 52,
      "outputs": []
    },
    {
      "cell_type": "code",
      "source": [
        "len(parkinsons_train_data)"
      ],
      "metadata": {
        "colab": {
          "base_uri": "https://localhost:8080/"
        },
        "id": "68uE0-r2h08y",
        "outputId": "5c907f97-dc24-4980-b038-0278a37d9e66"
      },
      "execution_count": 53,
      "outputs": [
        {
          "output_type": "execute_result",
          "data": {
            "text/plain": [
              "136"
            ]
          },
          "metadata": {},
          "execution_count": 53
        }
      ]
    },
    {
      "cell_type": "code",
      "source": [
        "len(parkinsons_valid_data)"
      ],
      "metadata": {
        "colab": {
          "base_uri": "https://localhost:8080/"
        },
        "id": "DdC8WmlfiB4Y",
        "outputId": "f3b014b6-10a0-4f3e-fdd1-201e65a2f2f5"
      },
      "execution_count": 54,
      "outputs": [
        {
          "output_type": "execute_result",
          "data": {
            "text/plain": [
              "29"
            ]
          },
          "metadata": {},
          "execution_count": 54
        }
      ]
    },
    {
      "cell_type": "code",
      "source": [
        "len(parkinsons_test_data)"
      ],
      "metadata": {
        "colab": {
          "base_uri": "https://localhost:8080/"
        },
        "id": "1-jZoXAziEGx",
        "outputId": "3b8f3eaa-39b2-49e6-da59-cbbc70c6b574"
      },
      "execution_count": 55,
      "outputs": [
        {
          "output_type": "execute_result",
          "data": {
            "text/plain": [
              "30"
            ]
          },
          "metadata": {},
          "execution_count": 55
        }
      ]
    },
    {
      "cell_type": "code",
      "source": [],
      "metadata": {
        "id": "yVOJnGFRlZvR"
      },
      "execution_count": null,
      "outputs": []
    }
  ]
}