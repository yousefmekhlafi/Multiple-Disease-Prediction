{
  "nbformat": 4,
  "nbformat_minor": 0,
  "metadata": {
    "colab": {
      "provenance": []
    },
    "kernelspec": {
      "name": "python3",
      "display_name": "Python 3"
    },
    "language_info": {
      "name": "python"
    }
  },
  "cells": [
    {
      "cell_type": "code",
      "execution_count": 2,
      "metadata": {
        "id": "k6GJIFEehJFJ"
      },
      "outputs": [],
      "source": [
        "import pandas as pd\n",
        "from sklearn.model_selection import train_test_split"
      ]
    },
    {
      "cell_type": "code",
      "source": [
        "# Load your dataset\n",
        "df = pd.read_csv('/content/heart.csv')"
      ],
      "metadata": {
        "id": "gK9K1Nb8hdUi"
      },
      "execution_count": 40,
      "outputs": []
    },
    {
      "cell_type": "code",
      "source": [
        "# Split the dataset into training, validation, and testing sets\n",
        "train_df, temp_df = train_test_split(df, test_size=0.3, random_state=42)  # 70% training, 30% temp\n",
        "valid_df, test_df = train_test_split(temp_df, test_size=0.5, random_state=42)  # 15% validation, 15% testing"
      ],
      "metadata": {
        "id": "6VfFtO-7hfyk"
      },
      "execution_count": 41,
      "outputs": []
    },
    {
      "cell_type": "code",
      "source": [
        "# Save the splits to separate CSV files\n",
        "train_df.to_csv('heart_train_data.csv', index=False)\n",
        "valid_df.to_csv('heart_valid_data.csv', index=False)\n",
        "test_df.to_csv('heart_test_data.csv', index=False)\n",
        "\n",
        "print(\"Data has been split and saved to CSV files.\")"
      ],
      "metadata": {
        "colab": {
          "base_uri": "https://localhost:8080/"
        },
        "id": "CaGlAUTthqfw",
        "outputId": "acf43eca-918c-408d-cc0a-0f579dbf025d"
      },
      "execution_count": 42,
      "outputs": [
        {
          "output_type": "stream",
          "name": "stdout",
          "text": [
            "Data has been split and saved to CSV files.\n"
          ]
        }
      ]
    },
    {
      "cell_type": "code",
      "source": [
        "heart_train_data = pd.read_csv('/content/heart_train_data.csv')\n",
        "heart_valid_data = pd.read_csv('/content/heart_valid_data.csv')\n",
        "heart_test_data = pd.read_csv('/content/heart_test_data.csv')\n"
      ],
      "metadata": {
        "id": "ur5Xvo_HhuGk"
      },
      "execution_count": 43,
      "outputs": []
    },
    {
      "cell_type": "code",
      "source": [
        "len(heart_train_data)"
      ],
      "metadata": {
        "colab": {
          "base_uri": "https://localhost:8080/"
        },
        "id": "68uE0-r2h08y",
        "outputId": "4f944106-2504-4df2-b7ce-0faa4b432666"
      },
      "execution_count": 44,
      "outputs": [
        {
          "output_type": "execute_result",
          "data": {
            "text/plain": [
              "212"
            ]
          },
          "metadata": {},
          "execution_count": 44
        }
      ]
    },
    {
      "cell_type": "code",
      "source": [
        "len(heart_valid_data)"
      ],
      "metadata": {
        "colab": {
          "base_uri": "https://localhost:8080/"
        },
        "id": "DdC8WmlfiB4Y",
        "outputId": "2ca29542-cc92-4e27-939e-341f46485cde"
      },
      "execution_count": 45,
      "outputs": [
        {
          "output_type": "execute_result",
          "data": {
            "text/plain": [
              "45"
            ]
          },
          "metadata": {},
          "execution_count": 45
        }
      ]
    },
    {
      "cell_type": "code",
      "source": [
        "len(heart_test_data)"
      ],
      "metadata": {
        "colab": {
          "base_uri": "https://localhost:8080/"
        },
        "id": "1-jZoXAziEGx",
        "outputId": "07be78b3-16ac-44ec-ad88-42800eea5d0f"
      },
      "execution_count": 46,
      "outputs": [
        {
          "output_type": "execute_result",
          "data": {
            "text/plain": [
              "46"
            ]
          },
          "metadata": {},
          "execution_count": 46
        }
      ]
    },
    {
      "cell_type": "code",
      "source": [],
      "metadata": {
        "id": "yVOJnGFRlZvR"
      },
      "execution_count": null,
      "outputs": []
    }
  ]
}