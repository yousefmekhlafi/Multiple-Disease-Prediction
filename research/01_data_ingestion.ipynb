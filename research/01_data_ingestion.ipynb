{
 "cells": [
  {
   "cell_type": "code",
   "execution_count": 12,
   "metadata": {},
   "outputs": [],
   "source": [
    "import os\n",
    "import requests\n",
    "import zipfile\n",
    "from pathlib import Path\n",
    "from dataclasses import dataclass\n",
    "from typing import Dict\n",
    "import yaml"
   ]
  },
  {
   "cell_type": "code",
   "execution_count": 13,
   "metadata": {},
   "outputs": [
    {
     "data": {
      "text/plain": [
       "'e:\\\\AI DA Portfolio\\\\Multiple-Disease-Prediction'"
      ]
     },
     "execution_count": 13,
     "metadata": {},
     "output_type": "execute_result"
    }
   ],
   "source": [
    "%pwd"
   ]
  },
  {
   "cell_type": "code",
   "execution_count": 4,
   "metadata": {},
   "outputs": [],
   "source": [
    "os.chdir(\"../\")"
   ]
  },
  {
   "cell_type": "code",
   "execution_count": 5,
   "metadata": {},
   "outputs": [
    {
     "data": {
      "text/plain": [
       "'e:\\\\AI DA Portfolio\\\\Multiple-Disease-Prediction'"
      ]
     },
     "execution_count": 5,
     "metadata": {},
     "output_type": "execute_result"
    }
   ],
   "source": [
    "%pwd"
   ]
  },
  {
   "cell_type": "code",
   "execution_count": 14,
   "metadata": {},
   "outputs": [],
   "source": [
    "@dataclass(frozen=True)\n",
    "class DataIngestionConfig:\n",
    "    root_dir: Path\n",
    "    source_URL: str\n",
    "    local_data_file: Path\n",
    "    unzip_dir: Path\n",
    "\n",
    "@dataclass(frozen=True)\n",
    "class MultiAlgorithmDataIngestionConfig:\n",
    "    algorithms: Dict[str, DataIngestionConfig]"
   ]
  },
  {
   "cell_type": "code",
   "execution_count": 18,
   "metadata": {},
   "outputs": [],
   "source": [
    "# Load the config.yaml file\n",
    "with open(\"config/config.yaml\", \"r\") as f:\n",
    "    config = yaml.safe_load(f)\n",
    "\n",
    "# Extract the root directory and algorithm configurations\n",
    "artifacts_root = Path(config[\"artifacts_root\"])\n",
    "\n",
    "data_ingestion_config = MultiAlgorithmDataIngestionConfig(\n",
    "    algorithms={\n",
    "        key: DataIngestionConfig(\n",
    "            root_dir=artifacts_root / Path(algorithm[\"root_dir\"]),\n",
    "            source_URL=algorithm[\"source_URL\"],\n",
    "            local_data_file=artifacts_root / Path(algorithm[\"local_data_file\"]),\n",
    "            unzip_dir=artifacts_root / Path(algorithm[\"unzip_dir\"])\n",
    "        )\n",
    "        for key, algorithm in config[\"data_ingestion\"].items()\n",
    "    }\n",
    ")"
   ]
  },
  {
   "cell_type": "code",
   "execution_count": 19,
   "metadata": {},
   "outputs": [],
   "source": [
    "def download_data(source_url: str, destination: Path) -> None:\n",
    "    \"\"\"Downloads the data from a given URL to the specified destination.\"\"\"\n",
    "    response = requests.get(source_url)\n",
    "    response.raise_for_status()  # Ensure the request was successful\n",
    "    with open(destination, 'wb') as f:\n",
    "        f.write(response.content)\n",
    "    print(f\"Downloaded data to {destination}\")\n",
    "\n",
    "def unzip_data(zip_file: Path, extract_to: Path) -> None:\n",
    "    \"\"\"Unzips the data to the specified directory.\"\"\"\n",
    "    with zipfile.ZipFile(zip_file, 'r') as zip_ref:\n",
    "        zip_ref.extractall(extract_to)\n",
    "    print(f\"Unzipped data to {extract_to}\")\n",
    "\n",
    "def prepare_data(config: DataIngestionConfig) -> None:\n",
    "    \"\"\"Handles the entire data ingestion process for a single algorithm.\"\"\"\n",
    "    config.unzip_dir.mkdir(parents=True, exist_ok=True)\n",
    "    if not config.local_data_file.exists():\n",
    "        download_data(config.source_URL, config.local_data_file)\n",
    "    if not any(config.unzip_dir.iterdir()):\n",
    "        unzip_data(config.local_data_file, config.unzip_dir)\n",
    "    print(f\"Data prepared at {config.unzip_dir}\")\n"
   ]
  },
  {
   "cell_type": "code",
   "execution_count": 20,
   "metadata": {},
   "outputs": [],
   "source": [
    "class DataIngestion:\n",
    "    def __init__(self, config: DataIngestionConfig):\n",
    "        self.config = config\n",
    "\n",
    "\n",
    "    \n",
    "    def download_file(self):\n",
    "        if not os.path.exists(self.config.local_data_file):\n",
    "            filename, headers = request.urlretrieve(\n",
    "                url = self.config.source_URL,\n",
    "                filename = self.config.local_data_file\n",
    "            )\n",
    "            logger.info(f\"{filename} download! with following info: \\n{headers}\")\n",
    "        else:\n",
    "            logger.info(f\"File already exists of size: {get_size(Path(self.config.local_data_file))}\")  \n",
    "\n",
    "        \n",
    "    \n",
    "    def extract_zip_file(self):\n",
    "        \"\"\"\n",
    "        zip_file_path: str\n",
    "        Extracts the zip file into the data directory\n",
    "        Function returns None\n",
    "        \"\"\"\n",
    "        unzip_path = self.config.unzip_dir\n",
    "        os.makedirs(unzip_path, exist_ok=True)\n",
    "        with zipfile.ZipFile(self.config.local_data_file, 'r') as zip_ref:\n",
    "            zip_ref.extractall(unzip_path)"
   ]
  },
  {
   "cell_type": "code",
   "execution_count": 21,
   "metadata": {},
   "outputs": [
    {
     "name": "stdout",
     "output_type": "stream",
     "text": [
      "\n",
      "Preparing data for heart_disease...\n",
      "Downloaded data to artifacts\\${artifacts_root}\\data_ingestion\\heart_disease_data.zip\n",
      "Unzipped data to artifacts\\${artifacts_root}\\data_ingestion\\heart_disease\n",
      "Data prepared at artifacts\\${artifacts_root}\\data_ingestion\\heart_disease\n",
      "\n",
      "Preparing data for parkinsons...\n",
      "Downloaded data to artifacts\\${artifacts_root}\\data_ingestion\\parkinsons_data.zip\n",
      "Unzipped data to artifacts\\${artifacts_root}\\data_ingestion\\parkinsons\n",
      "Data prepared at artifacts\\${artifacts_root}\\data_ingestion\\parkinsons\n",
      "\n",
      "Preparing data for diabetes...\n",
      "Downloaded data to artifacts\\${artifacts_root}\\data_ingestion\\diabetes_data.zip\n",
      "Unzipped data to artifacts\\${artifacts_root}\\data_ingestion\\diabetes\n",
      "Data prepared at artifacts\\${artifacts_root}\\data_ingestion\\diabetes\n"
     ]
    }
   ],
   "source": [
    "for algorithm_name, config in data_ingestion_config.algorithms.items():\n",
    "    print(f\"\\nPreparing data for {algorithm_name}...\")\n",
    "    prepare_data(config)"
   ]
  },
  {
   "cell_type": "code",
   "execution_count": null,
   "metadata": {},
   "outputs": [],
   "source": []
  }
 ],
 "metadata": {
  "kernelspec": {
   "display_name": "multipledisease",
   "language": "python",
   "name": "python3"
  },
  "language_info": {
   "codemirror_mode": {
    "name": "ipython",
    "version": 3
   },
   "file_extension": ".py",
   "mimetype": "text/x-python",
   "name": "python",
   "nbconvert_exporter": "python",
   "pygments_lexer": "ipython3",
   "version": "3.12.4"
  }
 },
 "nbformat": 4,
 "nbformat_minor": 2
}
